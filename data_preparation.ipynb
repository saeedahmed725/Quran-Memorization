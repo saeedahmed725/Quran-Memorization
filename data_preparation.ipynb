{
  "cells": [
    {
      "cell_type": "code",
      "execution_count": null,
      "metadata": {
        "colab": {
          "base_uri": "https://localhost:8080/"
        },
        "id": "sW7YFAT1PHtI",
        "outputId": "a8134f15-6b10-4571-bc2d-3581ac854418"
      },
      "outputs": [],
      "source": [
        "import json\n",
        "# Load JSON data from a file\n",
        "with open('ayahs.json', 'r', encoding='utf-8') as file:\n",
        "    data = json.load(file)\n",
        "data"
      ]
    },
    {
      "cell_type": "code",
      "execution_count": null,
      "metadata": {
        "colab": {
          "base_uri": "https://localhost:8080/"
        },
        "id": "Z_mpqcIpUPMa",
        "outputId": "61181f6b-55a6-4dc7-af64-712dc1c8b29c"
      },
      "outputs": [],
      "source": [
        "from pydub import AudioSegment\n",
        "import os\n",
        "\n",
        "def convert_mp3_to_wav(mp3_folder, wav_folder):\n",
        "    # List all MP3 files in the input folder\n",
        "    for file_name in os.listdir(mp3_folder):\n",
        "\n",
        "        if file_name.endswith('.mp3'):\n",
        "            mp3_path = os.path.join(mp3_folder, file_name)\n",
        "            wav_file_name = file_name.replace('.mp3', '.wav')\n",
        "            wav_path = os.path.join(wav_folder, wav_file_name)\n",
        "            print(wav_path)\n",
        "            try:\n",
        "                # Load MP3 and export as WAV\n",
        "                audio = AudioSegment.from_mp3(mp3_path)\n",
        "                audio.export(wav_path, format='wav')\n",
        "                # print(f'Converted {mp3_path} to {wav_path}')\n",
        "            except Exception as e:\n",
        "                print(f'Failed to convert {mp3_path} to WAV: {e}')\n"
      ]
    },
    {
      "cell_type": "code",
      "execution_count": null,
      "metadata": {
        "colab": {
          "base_uri": "https://localhost:8080/"
        },
        "id": "A0o6VzMq6bqH",
        "outputId": "58873fdf-171a-4721-d3e0-07950aa83b54"
      },
      "outputs": [],
      "source": [
        "# Load timings JSON data (update this with the actual path or code to get the timings data)\n",
        "with open('timings.json', 'r', encoding='utf-8') as timingsfile:\n",
        "    timings = json.load(timingsfile)\n",
        "\n",
        "words = []\n",
        "for item in data:\n",
        "  for wordIndex, word in enumerate(item.get('words')):\n",
        "      last = True\n",
        "      if wordIndex < len(item.get('words'))-1:\n",
        "          last = False\n",
        "      words.append({\n",
        "          \"word_number\": wordIndex + 1,\n",
        "          \"word\": word,\n",
        "          \"last\": last,\n",
        "          \"surah_number\": item.get('surah_number'),\n",
        "          \"verse_number\": item.get('verse_number'),\n",
        "      })\n",
        "\n",
        "print(words)\n",
        "# Loop through your surah files\n",
        "\n",
        "def segmented_ayah_audio_to_word(input_dir,surah, reciter):\n",
        "    output_dir = f'word_by_word/{reciter}/{surah}'\n",
        "    for ayah_index, ayah_path in enumerate(os.listdir(input_dir)):\n",
        "        \n",
        "        # Create the output directory if it doesn't exist\n",
        "        if not os.path.exists(output_dir):\n",
        "            os.makedirs(output_dir)\n",
        "        # 114  30 juz 60 hizb 240 rb3 6263 ayha 77426 word\n",
        "        # Iterate over each item in your JSON data\n",
        "        for index, (item, time) in enumerate(zip(words, timings)):\n",
        "            try:\n",
        "                surah_number = item.get('surah_number')\n",
        "                ayah_number = item.get('verse_number')\n",
        "                word = item.get('word')\n",
        "                last = item.get('last')\n",
        "                timing = float(time.get('alafasy_timing'))   # Changed 'ID' to 'alafasy_timing' following the Timings JSON reciter_name\n",
        "                word_number = item.get('word_number')\n",
        "                if ayah_number == ayah_index+1:\n",
        "                    print(f\"Item: {word}, Time: {timing}\")\n",
        "                if surah_number == 2:\n",
        "                    break\n",
        "                \n",
        "                file_name = os.path.basename(ayah_path)\n",
        "                print(file_name)\n",
        "                if file_name != f'{surah_number:03}{ayah_number:03}.wav':\n",
        "                    continue\n",
        "                # # Load the audio file\n",
        "                print(f\"Processing {input_dir}/{ayah_path}\".replace('\\\\', '/'))\n",
        "                audio = AudioSegment.from_file(f'{input_dir}/{ayah_path}'.replace('\\\\', '/'))\n",
        "                            \n",
        "                if not surah_number or not ayah_number or timing is None:\n",
        "                    print(f\"Skipping item due to missing data: {item}, {time}\")\n",
        "                    continue\n",
        "\n",
        "                # Create directories for and ayah\n",
        "                ayah_dir = f\"{output_dir}/ayah_{ayah_number}\"\n",
        "\n",
        "                os.makedirs(ayah_dir, exist_ok=True)\n",
        "\n",
        "                # Calculate start and end times in milliseconds\n",
        "                start_time = timing * 1000  # convert to milliseconds\n",
        "                next_timing = float(timings[index + 1].get('alafasy_timing', timing + 0.1))\n",
        "                if last:\n",
        "                   # Extract segm-ent\n",
        "                    segment = audio[start_time:]\n",
        "                else:\n",
        "                    end_time = start_time + ((next_timing ) - timing) * 1000\n",
        "                    # Extract segm-ent\n",
        "                    segment = audio[start_time:end_time]\n",
        "                    \n",
        "                # Export segment\n",
        "                # word_filename = f\"word_{item.get('word_number', f'{index +1}')}.wav\"  # Changed 'ID' to 'word_number'\n",
        "                segment.export(os.path.join(ayah_dir, f\"{word_number}.wav\"), format=\"wav\")\n",
        "\n",
        "                print(f\"Exported {word_number} to {ayah_dir} from {start_time}ms to {end_time}ms\")\n",
        "\n",
        "            except Exception as e:\n",
        "                print(f\"An error occurred: {e}\")"
      ]
    },
    {
      "cell_type": "code",
      "execution_count": null,
      "metadata": {},
      "outputs": [],
      "source": [
        "def prepare_segmented_audio_files():\n",
        "    base_folder = 'downloaded_audio_files'\n",
        "    segmented_audio_folder = 'segmented_audio_files'\n",
        "\n",
        "    if not os.path.exists(segmented_audio_folder):\n",
        "        os.makedirs(segmented_audio_folder)\n",
        "\n",
        "    for reciter in os.listdir(base_folder):\n",
        "        segmented_reciter_folder = os.path.join(segmented_audio_folder, reciter)\n",
        "        if not os.path.exists(segmented_reciter_folder):\n",
        "            os.makedirs(segmented_reciter_folder)\n",
        "        \n",
        "        \n",
        "        for surah in os.listdir(os.path.join(base_folder, reciter)):\n",
        "            base_surah_folder = os.path.join(base_folder, reciter, surah)\n",
        "            segmented_surah_folder = os.path.join(segmented_audio_folder, reciter, surah)\n",
        "            if not os.path.exists(segmented_surah_folder):\n",
        "                os.makedirs(segmented_surah_folder)\n",
        "            # convet mp3 to wav \n",
        "            convert_mp3_to_wav(base_surah_folder, segmented_surah_folder)\n",
        "            segmented_ayah_audio_to_word(segmented_surah_folder, surah, reciter)\n",
        "\n",
        "prepare_segmented_audio_files()\n"
      ]
    },
    {
      "cell_type": "code",
      "execution_count": null,
      "metadata": {
        "colab": {
          "base_uri": "https://localhost:8080/"
        },
        "id": "raAET7MYzSpm",
        "outputId": "54094241-f74d-46a8-d171-7823681d1ee0"
      },
      "outputs": [],
      "source": [
        "# Loop through your surah files\n",
        "reciter_name = [\"alafasy\",\"husary\"]\n",
        "for item in data:\n",
        "    # Define paths\n",
        "    if item.get(\"surah_number\") == 2:\n",
        "        break\n",
        "    input_ayah_audios_path = f\"word_by_word/{reciter_name[0]}/surah_{item.get(\"surah_number\")}/ayah_{item.get(\"verse_number\")}\"\n",
        "    print(f\"ayah audio: ayah_{item.get(\"verse_number\")}\")\n",
        "    # Iterate over each file in the directory\n",
        "    filenames = sorted(os.listdir(input_ayah_audios_path))\n",
        "    audioList = []\n",
        "    for wordindex,filename  in enumerate(filenames):\n",
        "      words =item.get(\"words\")\n",
        "      file_path = f\"{input_ayah_audios_path}/{filename}\"\n",
        "      if os.path.isfile(file_path):\n",
        "          # Process the file\n",
        "          print(f\"Processing file: {file_path} {words[wordindex]}\")\n",
        "          audioList.append({\n",
        "              \"word_number\": wordindex + 1,\n",
        "              \"word\": words[wordindex],\n",
        "              \"audio_path\": file_path,\n",
        "          })\n",
        "    item[\"words_audios\"] = audioList\n",
        "# Save the updated JSON data to a file (optional)\n",
        "with open(f'{reciter_name[0]}_data.json', 'w', encoding='utf-8') as f:\n",
        "    json.dump(data, f, ensure_ascii=False, indent=4)\n",
        "\n",
        "# Print the updated data to verify\n",
        "# print(json.dumps(data, ensure_ascii=False, indent=4))"
      ]
    }
  ],
  "metadata": {
    "colab": {
      "provenance": []
    },
    "kernelspec": {
      "display_name": "Python 3",
      "name": "python3"
    },
    "language_info": {
      "codemirror_mode": {
        "name": "ipython",
        "version": 3
      },
      "file_extension": ".py",
      "mimetype": "text/x-python",
      "name": "python",
      "nbconvert_exporter": "python",
      "pygments_lexer": "ipython3",
      "version": "3.12.2"
    }
  },
  "nbformat": 4,
  "nbformat_minor": 0
}
