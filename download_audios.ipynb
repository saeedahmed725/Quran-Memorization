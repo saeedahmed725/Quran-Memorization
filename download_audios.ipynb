{
 "cells": [
  {
   "cell_type": "markdown",
   "metadata": {},
   "source": [
    "# Download audios from everyayah.com "
   ]
  },
  {
   "cell_type": "code",
   "execution_count": 11,
   "metadata": {},
   "outputs": [],
   "source": [
    "import requests\n",
    "import os\n",
    "def download_audio(surah_number, ayah_number, shikhname):\n",
    "    file_name = f'{surah_number:03}{ayah_number:03}.mp3'\n",
    "    url =f'https://everyayah.com/data/{shikhname}/{file_name}'\n",
    "    base_folder = 'downloaded_audio_files'\n",
    "    reciter_folder = shikhname.lower().split('_')[0]\n",
    "    surah_folder = f'surah_{surah_number}'\n",
    "\n",
    "    if not os.path.exists(base_folder):\n",
    "        os.makedirs(base_folder)\n",
    "    \n",
    "    if not os.path.exists(os.path.join(base_folder, reciter_folder)):\n",
    "        os.makedirs(os.path.join(base_folder, reciter_folder))\n",
    "    \n",
    "    if not os.path.exists(os.path.join(base_folder, reciter_folder, surah_folder)):\n",
    "        os.makedirs(os.path.join(base_folder, reciter_folder, surah_folder))\n",
    "        \n",
    "    file_path = os.path.join(base_folder, reciter_folder, surah_folder, file_name)\n",
    "    \n",
    "    if os.path.exists(file_path):\n",
    "        print(f'{file_name} already exists')\n",
    "        return\n",
    "    response = requests.get(url)\n",
    "\n",
    "    if response.status_code == 200:\n",
    "       \n",
    "        with open(file_path, 'wb') as f:\n",
    "            f.write(response.content)\n",
    "        print(f'Downloaded and saved to {file_path}')\n",
    "    else:\n",
    "        print(f'Failed to download {file_name}')\n"
   ]
  },
  {
   "cell_type": "code",
   "execution_count": 12,
   "metadata": {},
   "outputs": [
    {
     "name": "stdout",
     "output_type": "stream",
     "text": [
      "001001.mp3 already exists\n",
      "001002.mp3 already exists\n",
      "001003.mp3 already exists\n",
      "001004.mp3 already exists\n",
      "001005.mp3 already exists\n",
      "001006.mp3 already exists\n",
      "001007.mp3 already exists\n",
      "001001.mp3 already exists\n",
      "001002.mp3 already exists\n",
      "001003.mp3 already exists\n",
      "001004.mp3 already exists\n",
      "001005.mp3 already exists\n",
      "001006.mp3 already exists\n",
      "001007.mp3 already exists\n"
     ]
    }
   ],
   "source": [
    "# Husary_64kbps ,Alafasy_128kbps\n",
    "list_of_reciters = ['Husary_64kbps', 'Alafasy_128kbps']\n",
    "surah_lengths = [7, 286, 200, 176, 120, 165, 206, 75, 129, 109, 123, 111, 43, 52, 120, 111, 111, 120, 98, 135, 112, 78, 118, 64, 77, 114, 40, 69, 34, 30, 27, 35, 30, 28, 37, 24, 29, 46, 37, 33, 48, 50, 59, 62, 59, 37, 18, 19, 11, 12, 15, 16, 14, 11]\n",
    "\n",
    "for reciter in list_of_reciters:\n",
    "    for surah in range(1, 2):\n",
    "        for ayah in range(1, surah_lengths[surah-1]+1):\n",
    "            download_audio(surah, ayah, reciter)"
   ]
  },
  {
   "cell_type": "markdown",
   "metadata": {},
   "source": [
    "Dowmload Word By Word"
   ]
  },
  {
   "cell_type": "code",
   "execution_count": 13,
   "metadata": {},
   "outputs": [],
   "source": [
    "#https://wtq-recitations.s3.us-east-2.amazonaws.com/Word_by-Word/2/002007001.mp3\n",
    "#https://wtq-recitations.s3.us-east-2.amazonaws.com/Word_by-Word/[surah number]/[surah number][ayah number][word number].mp3\n",
    "\n",
    "# make a code that will download all the audio files from the above link\n",
    "def download_word_by_word(surah_number, ayah_number, word_number):\n",
    "    file_name = f'{surah_number:03}{ayah_number:03}{word_number:03}.mp3'\n",
    "    url =f'https://wtq-recitations.s3.us-east-2.amazonaws.com/Word_by-Word/{surah_number}/{surah_number:03}{ayah_number:03}{word_number:03}.mp3'\n",
    "    base_folder = 'word_by_word'\n",
    "    surah_folder = f'tajweed/surah_{surah_number}'\n",
    "\n",
    "    if not os.path.exists(base_folder):\n",
    "        os.makedirs(base_folder)\n",
    "    \n",
    "    if not os.path.exists(os.path.join(base_folder, surah_folder)):\n",
    "        os.makedirs(os.path.join(base_folder, surah_folder))\n",
    "    \n",
    "    file_path = os.path.join(base_folder, surah_folder, file_name)\n",
    "    \n",
    "    if os.path.exists(file_path):\n",
    "        print(f'{file_name} already exists')\n",
    "        return\n",
    "    \n",
    "    response = requests.get(url)\n",
    "    print(str(response.status_code) + \" Connection Okay: \" + url)\n",
    "    if response.status_code == 200:\n",
    "        with open(file_path, 'wb') as f:\n",
    "            f.write(response.content)\n",
    "        print(f'Downloaded and saved to {file_path}')\n",
    "    else:\n",
    "        print(f'Failed to download {file_name}')"
   ]
  },
  {
   "cell_type": "code",
   "execution_count": 14,
   "metadata": {},
   "outputs": [
    {
     "name": "stdout",
     "output_type": "stream",
     "text": [
      "200Connection Okay: https://wtq-recitations.s3.us-east-2.amazonaws.com/Word_by-Word/114/114001001.mp3\n",
      "Downloaded and saved to word_by_word\\tajweed/surah_114\\114001001.mp3\n",
      "200Connection Okay: https://wtq-recitations.s3.us-east-2.amazonaws.com/Word_by-Word/114/114001002.mp3\n",
      "Downloaded and saved to word_by_word\\tajweed/surah_114\\114001002.mp3\n",
      "200Connection Okay: https://wtq-recitations.s3.us-east-2.amazonaws.com/Word_by-Word/114/114001003.mp3\n",
      "Downloaded and saved to word_by_word\\tajweed/surah_114\\114001003.mp3\n",
      "200Connection Okay: https://wtq-recitations.s3.us-east-2.amazonaws.com/Word_by-Word/114/114001004.mp3\n",
      "Downloaded and saved to word_by_word\\tajweed/surah_114\\114001004.mp3\n",
      "200Connection Okay: https://wtq-recitations.s3.us-east-2.amazonaws.com/Word_by-Word/114/114002001.mp3\n",
      "Downloaded and saved to word_by_word\\tajweed/surah_114\\114002001.mp3\n",
      "200Connection Okay: https://wtq-recitations.s3.us-east-2.amazonaws.com/Word_by-Word/114/114002002.mp3\n",
      "Downloaded and saved to word_by_word\\tajweed/surah_114\\114002002.mp3\n",
      "200Connection Okay: https://wtq-recitations.s3.us-east-2.amazonaws.com/Word_by-Word/114/114003001.mp3\n",
      "Downloaded and saved to word_by_word\\tajweed/surah_114\\114003001.mp3\n",
      "200Connection Okay: https://wtq-recitations.s3.us-east-2.amazonaws.com/Word_by-Word/114/114003002.mp3\n",
      "Downloaded and saved to word_by_word\\tajweed/surah_114\\114003002.mp3\n",
      "200Connection Okay: https://wtq-recitations.s3.us-east-2.amazonaws.com/Word_by-Word/114/114004001.mp3\n",
      "Downloaded and saved to word_by_word\\tajweed/surah_114\\114004001.mp3\n",
      "200Connection Okay: https://wtq-recitations.s3.us-east-2.amazonaws.com/Word_by-Word/114/114004002.mp3\n",
      "Downloaded and saved to word_by_word\\tajweed/surah_114\\114004002.mp3\n",
      "200Connection Okay: https://wtq-recitations.s3.us-east-2.amazonaws.com/Word_by-Word/114/114004003.mp3\n",
      "Downloaded and saved to word_by_word\\tajweed/surah_114\\114004003.mp3\n",
      "200Connection Okay: https://wtq-recitations.s3.us-east-2.amazonaws.com/Word_by-Word/114/114004004.mp3\n",
      "Downloaded and saved to word_by_word\\tajweed/surah_114\\114004004.mp3\n",
      "200Connection Okay: https://wtq-recitations.s3.us-east-2.amazonaws.com/Word_by-Word/114/114005001.mp3\n",
      "Downloaded and saved to word_by_word\\tajweed/surah_114\\114005001.mp3\n",
      "200Connection Okay: https://wtq-recitations.s3.us-east-2.amazonaws.com/Word_by-Word/114/114005002.mp3\n",
      "Downloaded and saved to word_by_word\\tajweed/surah_114\\114005002.mp3\n",
      "200Connection Okay: https://wtq-recitations.s3.us-east-2.amazonaws.com/Word_by-Word/114/114005003.mp3\n",
      "Downloaded and saved to word_by_word\\tajweed/surah_114\\114005003.mp3\n",
      "200Connection Okay: https://wtq-recitations.s3.us-east-2.amazonaws.com/Word_by-Word/114/114005004.mp3\n",
      "Downloaded and saved to word_by_word\\tajweed/surah_114\\114005004.mp3\n",
      "200Connection Okay: https://wtq-recitations.s3.us-east-2.amazonaws.com/Word_by-Word/114/114005005.mp3\n",
      "Downloaded and saved to word_by_word\\tajweed/surah_114\\114005005.mp3\n",
      "200Connection Okay: https://wtq-recitations.s3.us-east-2.amazonaws.com/Word_by-Word/114/114006001.mp3\n",
      "Downloaded and saved to word_by_word\\tajweed/surah_114\\114006001.mp3\n",
      "200Connection Okay: https://wtq-recitations.s3.us-east-2.amazonaws.com/Word_by-Word/114/114006002.mp3\n",
      "Downloaded and saved to word_by_word\\tajweed/surah_114\\114006002.mp3\n",
      "200Connection Okay: https://wtq-recitations.s3.us-east-2.amazonaws.com/Word_by-Word/114/114006003.mp3\n",
      "Downloaded and saved to word_by_word\\tajweed/surah_114\\114006003.mp3\n"
     ]
    }
   ],
   "source": [
    "import json\n",
    "with open('ayahs.json', 'r', encoding='utf-8') as ayahs:\n",
    "    ayahs = json.load(ayahs)\n",
    "    \n",
    "    for ayah in ayahs:\n",
    "        if ayah['surah_number'] == 114:\n",
    "            for index , word in enumerate(ayah['words']):\n",
    "                download_word_by_word(ayah['surah_number'],ayah['verse_number'], index+1)\n",
    "        "
   ]
  },
  {
   "cell_type": "code",
   "execution_count": null,
   "metadata": {},
   "outputs": [],
   "source": []
  }
 ],
 "metadata": {
  "kernelspec": {
   "display_name": "Python 3",
   "language": "python",
   "name": "python3"
  },
  "language_info": {
   "codemirror_mode": {
    "name": "ipython",
    "version": 3
   },
   "file_extension": ".py",
   "mimetype": "text/x-python",
   "name": "python",
   "nbconvert_exporter": "python",
   "pygments_lexer": "ipython3",
   "version": "3.12.2"
  }
 },
 "nbformat": 4,
 "nbformat_minor": 2
}
